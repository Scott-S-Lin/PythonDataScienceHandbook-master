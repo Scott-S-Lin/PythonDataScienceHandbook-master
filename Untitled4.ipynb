{
 "cells": [
  {
   "cell_type": "code",
   "execution_count": 2,
   "metadata": {},
   "outputs": [
    {
     "data": {
      "text/plain": [
       "<matplotlib.collections.PathCollection at 0xa8fa390>"
      ]
     },
     "execution_count": 2,
     "metadata": {},
     "output_type": "execute_result"
    },
    {
     "data": {
      "image/png": "[encoded data removed]",
      "text/plain": [
       "<Figure size 432x288 with 1 Axes>"
      ]
     },
     "metadata": {
      "needs_background": "light"
     },
     "output_type": "display_data"
    }
   ],
   "source": [
    "%matplotlib inline\n",
    "import numpy as np\n",
    "import matplotlib.pyplot as plt\n",
    "\n",
    "x = np.array([[-3,2], [-6,5], [3,-4], [2,-8]])\n",
    "y = np.array([1, 1, 2, 2])\n",
    "\n",
    "plt.scatter([-3, -6, 3, 2], [2, 5, -4, -8], c=y)\n",
    "\n"
   ]
  },
  {
   "cell_type": "code",
   "execution_count": null,
   "metadata": {},
   "outputs": [],
   "source": [
    "x\n",
    "\n",
    "x[2, 1]\n",
    "\n",
    "x[:,0]\n",
    "\n",
    "x[:,1]\n",
    "\n",
    "plt.scatter(x[:,0], x[:,1], c=y)\n",
    "\n",
    "plt.scatter(x[:,0], x[:,1], s=50, c=y)\n",
    "\n",
    "x\n",
    "\n",
    "y\n",
    "\n",
    "from sklearn.svm import SVC\n",
    "\n",
    "clf = SVC()\n",
    "\n",
    "clf.fit(x, y)\n",
    "\n",
    "clf.predict([[-3,2]])\n",
    "clf.predict(x)\n",
    "\n",
    "clf.predict([[2.5,3]])\n",
    "\n",
    "\n",
    "xx = [1,2,3,4]\n",
    "yy = [5,6,7,8]\n",
    "\n",
    "X, Y = np.meshgrid(xx,yy)\n",
    "X\n",
    "Y\n",
    "\n",
    "X, Y = np.meshgrid(np.linspace(-6,3,30), np.linspace(-8,5,30))\n",
    "\n",
    "X = X.ravel()\n",
    "Y = Y.ravel()\n",
    "\n",
    "plt.scatter(X, Y)\n",
    "\n",
    "xx = [1,2,3,4]\n",
    "yy = [5,6,7,8]\n",
    "\n",
    "list(zip(xx,yy))\n",
    "\n",
    "Z = clf.predict(list(zip(X,Y)))\n",
    "\n",
    "plt.scatter(X, Y, s=50, c=Z)\n",
    "\n",
    "\n",
    "\n",
    "\n",
    "\n",
    "\n",
    "\n"
   ]
  }
 ],
 "metadata": {
  "kernelspec": {
   "display_name": "Python 3",
   "language": "python",
   "name": "python3"
  },
  "language_info": {
   "codemirror_mode": {
    "name": "ipython",
    "version": 3
   },
   "file_extension": ".py",
   "mimetype": "text/x-python",
   "name": "python",
   "nbconvert_exporter": "python",
   "pygments_lexer": "ipython3",
   "version": "3.6.5"
  }
 },
 "nbformat": 4,
 "nbformat_minor": 2
}
